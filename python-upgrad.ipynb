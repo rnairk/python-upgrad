{
  "nbformat": 4,
  "nbformat_minor": 0,
  "metadata": {
    "colab": {
      "provenance": [],
      "authorship_tag": "ABX9TyM5JVRLr0sDyLXh3coC7wYu",
      "include_colab_link": true
    },
    "kernelspec": {
      "name": "python3",
      "display_name": "Python 3"
    },
    "language_info": {
      "name": "python"
    }
  },
  "cells": [
    {
      "cell_type": "markdown",
      "metadata": {
        "id": "view-in-github",
        "colab_type": "text"
      },
      "source": [
        "<a href=\"https://colab.research.google.com/github/rnairk/python-upgrad/blob/main/python-upgrad.ipynb\" target=\"_parent\"><img src=\"https://colab.research.google.com/assets/colab-badge.svg\" alt=\"Open In Colab\"/></a>"
      ]
    },
    {
      "cell_type": "code",
      "execution_count": 31,
      "metadata": {
        "colab": {
          "base_uri": "https://localhost:8080/"
        },
        "id": "zkXG67dX7ay6",
        "outputId": "b901fe56-5289-4150-9ebc-eb61ead6c0a6"
      },
      "outputs": [
        {
          "output_type": "stream",
          "name": "stdout",
          "text": [
            "Enter colour for banana:Red\n",
            "try again\n",
            "Enter colour for banana:Yellow\n",
            "Correct \n"
          ]
        }
      ],
      "source": [
        "import random\n",
        "class FlashCard:\n",
        "  correct=False\n",
        "  def __init__(self):\n",
        "    self.fruits = {\n",
        "        \"apple\":\"red\",\n",
        "        \"banana\":\"yellow\",\n",
        "        \"orange\":\"orange\"\n",
        "    }\n",
        "\n",
        "  def startGame(self):\n",
        "    keys = list(self.fruits.keys())\n",
        "    key = random.choice(keys)\n",
        "\n",
        "    while self.correct == False:\n",
        "\n",
        "      s = input(f'Enter colour for {key}:')\n",
        "\n",
        "      if s.lower() == self.fruits[key]:\n",
        "        self.correct = True\n",
        "        print('Correct ')\n",
        "      else:\n",
        "        print('try again')\n",
        "\n",
        "\n",
        "\n",
        "f = FlashCard()\n",
        "f.startGame()\n"
      ]
    }
  ]
}